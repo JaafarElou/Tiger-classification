{
 "cells": [
  {
   "cell_type": "code",
   "execution_count": null,
   "id": "01296098-f909-41b5-81ec-6123a6cd1341",
   "metadata": {},
   "outputs": [],
   "source": [
    "import pandas as pd\n",
    "import matplotlib.pyplot as plt\n",
    "import sklearn.preprocessing impo"
   ]
  },
  {
   "cell_type": "code",
   "execution_count": null,
   "id": "71f5554f-1558-43d9-a070-dfde4d088c7b",
   "metadata": {},
   "outputs": [],
   "source": []
  }
 ],
 "metadata": {
  "kernelspec": {
   "display_name": "Python 3 (ipykernel)",
   "language": "python",
   "name": "python3"
  },
  "language_info": {
   "codemirror_mode": {
    "name": "ipython",
    "version": 3
   },
   "file_extension": ".py",
   "mimetype": "text/x-python",
   "name": "python",
   "nbconvert_exporter": "python",
   "pygments_lexer": "ipython3",
   "version": "3.12.3"
  }
 },
 "nbformat": 4,
 "nbformat_minor": 5
}
